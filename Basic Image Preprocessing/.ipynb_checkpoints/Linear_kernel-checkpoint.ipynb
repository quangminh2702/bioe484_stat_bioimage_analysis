{
 "cells": [
  {
   "cell_type": "markdown",
   "id": "fd1b93bc",
   "metadata": {},
   "source": [
    "## Practicing with Linear Kernel"
   ]
  },
  {
   "cell_type": "markdown",
   "id": "8a25394b",
   "metadata": {},
   "source": [
    "### Using CV2 function filter2D"
   ]
  },
  {
   "cell_type": "code",
   "execution_count": 2,
   "id": "cc6c6369",
   "metadata": {},
   "outputs": [
    {
     "data": {
      "image/png": "[encoded data removed]",
      "text/plain": [
       "<Figure size 1000x500 with 2 Axes>"
      ]
     },
     "metadata": {},
     "output_type": "display_data"
    }
   ],
   "source": [
    "import cv2\n",
    "import numpy as np\n",
    "import matplotlib.pyplot as plt\n",
    "\n",
    "# Load the image\n",
    "image = cv2.imread('brain_mri.png', cv2.IMREAD_GRAYSCALE)\n",
    "\n",
    "# Create a simple image\n",
    "# np.random.seed(42)\n",
    "# image = np.zeros((100, 100))\n",
    "# image[20:80, 20:80] = 1.0  # Create a square in the image\n",
    "\n",
    "# Define a 3x3 kernel\n",
    "# kernel = np.array([[1/9, 1/9, 1/9], \n",
    "#                     [1/9, 1/9, 1/9],\n",
    "#                     [1/9, 1/9, 1/9]])\n",
    "\n",
    "# # other kernels: \n",
    "kernel = np.array([[1, 0, -1], \n",
    "            [2, 0, -2],\n",
    "            [1, 0, -1]])\n",
    "\n",
    "# kernel = np.array([[-1/9, -1/9, -1/9], \n",
    "#                     [-1/9, 2-1/9, -1/9],\n",
    "#                     [-1/9, -1/9, -1/9]])\n",
    "\n",
    "\n",
    "# Perform convolution\n",
    "result = cv2.filter2D(image, -1, kernel)\n",
    "\n",
    "# Display the original and convolved images\n",
    "plt.figure(figsize=(10, 5))\n",
    "\n",
    "plt.subplot(1, 2, 1)\n",
    "plt.imshow(image, cmap='gray')\n",
    "plt.title('Original Image')\n",
    "\n",
    "plt.subplot(1, 2, 2)\n",
    "plt.imshow(result, cmap='gray')\n",
    "plt.title('Convolved Image')\n",
    "\n",
    "plt.show()\n"
   ]
  },
  {
   "cell_type": "markdown",
   "id": "01ed5f35",
   "metadata": {},
   "source": [
    "Check for image sizes"
   ]
  },
  {
   "cell_type": "code",
   "execution_count": null,
   "id": "94ccef35",
   "metadata": {},
   "outputs": [],
   "source": []
  },
  {
   "cell_type": "markdown",
   "id": "1e010d34",
   "metadata": {},
   "source": [
    "### Using convolve2d in scipy library"
   ]
  },
  {
   "cell_type": "code",
   "execution_count": null,
   "id": "196f7bcd",
   "metadata": {},
   "outputs": [],
   "source": [
    "import cv2\n",
    "import numpy as np\n",
    "import matplotlib.pyplot as plt\n",
    "from scipy.signal import convolve2d\n",
    "\n",
    "# Load the image\n",
    "image = cv2.imread('brain_mri.png', cv2.IMREAD_GRAYSCALE)\n",
    "\n",
    "# Define a 3x3 kernel\n",
    "kernel = np.array([[1/9, 1/9, 1/9], \n",
    "                    [1/9, 1/9, 1/9],\n",
    "                    [1/9, 1/9, 1/9]])\n",
    "\n",
    "# Perform convolution with 'same' padding (default in convolve2d)\n",
    "result_same = convolve2d(image, kernel, mode='same', boundary='symm')\n",
    "\n",
    "# Perform convolution with 'valid' padding\n",
    "result_valid = convolve2d(image, kernel, mode='valid', boundary='symm')\n",
    "\n",
    "# Perform convolution with 'full' padding\n",
    "result_full = convolve2d(image, kernel, mode='full', boundary='symm')\n",
    "\n",
    "# Display the original and convolved images\n",
    "plt.figure(figsize=(15, 5))\n",
    "\n",
    "plt.subplot(1, 4, 1)\n",
    "plt.imshow(image, cmap='gray')\n",
    "plt.title('Original Image')\n",
    "\n",
    "plt.subplot(1, 4, 2)\n",
    "plt.imshow(result_same, cmap='gray')\n",
    "plt.title('Convolved Image (Same Padding)')\n",
    "\n",
    "plt.subplot(1, 4, 3)\n",
    "plt.imshow(result_valid, cmap='gray')\n",
    "plt.title('Convolved Image (Valid Padding)')\n",
    "\n",
    "plt.subplot(1, 4, 4)\n",
    "plt.imshow(result_full, cmap='gray')\n",
    "plt.title('Convolved Image (Full Padding)')\n",
    "\n",
    "plt.show()\n",
    "\n"
   ]
  },
  {
   "cell_type": "markdown",
   "id": "d646fdc9",
   "metadata": {},
   "source": [
    "Check for image sizes"
   ]
  },
  {
   "cell_type": "code",
   "execution_count": null,
   "id": "2950631d",
   "metadata": {},
   "outputs": [],
   "source": []
  }
 ],
 "metadata": {
  "kernelspec": {
   "display_name": "Python 3 (ipykernel)",
   "language": "python",
   "name": "python3"
  },
  "language_info": {
   "codemirror_mode": {
    "name": "ipython",
    "version": 3
   },
   "file_extension": ".py",
   "mimetype": "text/x-python",
   "name": "python",
   "nbconvert_exporter": "python",
   "pygments_lexer": "ipython3",
   "version": "3.11.5"
  }
 },
 "nbformat": 4,
 "nbformat_minor": 5
}
